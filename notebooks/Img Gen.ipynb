{
 "cells": [
  {
   "cell_type": "code",
   "execution_count": 1,
   "metadata": {},
   "outputs": [],
   "source": [
    "from PIL import Image, ImageDraw\n",
    "import random"
   ]
  },
  {
   "cell_type": "code",
   "execution_count": 2,
   "metadata": {},
   "outputs": [],
   "source": [
    "# image = Image.open('input/true/1.png')\n",
    "# rec = ImageDraw.Draw(image)\n",
    "\n",
    "# x0 = random.randrange(8, 40)\n",
    "# y0 = random.randrange(8, 40)\n",
    "# rec.rectangle([(x0, y0), (x0 + 16, y0 + 16)], fill = 'black')\n",
    "\n",
    "# image.show()"
   ]
  },
  {
   "cell_type": "code",
   "execution_count": 3,
   "metadata": {},
   "outputs": [],
   "source": [
    "for trueImg in range(1, 21552):\n",
    "    for maskNum in range(1, 2):\n",
    "        maskImg = Image.open(f'input/true/{trueImg}.png')\n",
    "        rec = ImageDraw.Draw(maskImg)\n",
    "        x0 = random.randrange(8, 40)\n",
    "        y0 = random.randrange(8, 32)\n",
    "        rec.rectangle([(x0, y0), (x0 + 16, y0 + 16)], fill = 'black')\n",
    "        del rec\n",
    "        maskImg.save(f'input/mask/{trueImg}_mask{maskNum}.png')"
   ]
  },
  {
   "cell_type": "code",
   "execution_count": null,
   "metadata": {},
   "outputs": [],
   "source": []
  }
 ],
 "metadata": {
  "kernelspec": {
   "display_name": "Python 3",
   "language": "python",
   "name": "python3"
  },
  "language_info": {
   "codemirror_mode": {
    "name": "ipython",
    "version": 3
   },
   "file_extension": ".py",
   "mimetype": "text/x-python",
   "name": "python",
   "nbconvert_exporter": "python",
   "pygments_lexer": "ipython3",
   "version": "3.7.6"
  }
 },
 "nbformat": 4,
 "nbformat_minor": 4
}
